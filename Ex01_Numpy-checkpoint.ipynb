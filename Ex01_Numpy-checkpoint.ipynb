{
 "cells": [
  {
   "cell_type": "markdown",
   "id": "34146d97",
   "metadata": {},
   "source": [
    "### 라이브러리\n",
    "- 확장자가 .py 인 파일\n",
    "- 변수나 함수 또는 클래스를 모아놓은 파일\n",
    "- 파이썬 프로그램에서 불러와 사용할 수 있게 만들어진 파이썬 파일 이라고도 함"
   ]
  },
  {
   "cell_type": "markdown",
   "id": "eb6774c2",
   "metadata": {},
   "source": [
    "### 라이브러리 종류\n",
    "#### Numpy\n",
    "- 고성능 과학계산을 위한 데이터 분석 라이브러리\n",
    "#### Pandas\n",
    "- 행과 열로 구성된 표형식의 데이터를 지원하는 라이브러리\n",
    "#### Mataplotlib\n",
    "- 2D그래프로 시각화가 가능한 라이브러리"
   ]
  },
  {
   "cell_type": "markdown",
   "id": "714e8b84",
   "metadata": {},
   "source": [
    "### Numpy의 주요기능\n",
    "- 빠르고 효율적인 벡터 산술연산을 제공하는 다차원배열 제공 ( ndarray 클래스 )\n",
    "- 반복문 없이 전체 데이터 배열 연산이 가능한 표준 수학 함수 ( sum(), sqrt(), mean() )\n",
    "- 선형대수, 난수 생성, 푸리에 변환"
   ]
  },
  {
   "cell_type": "code",
   "execution_count": 2,
   "id": "bb4c7b82",
   "metadata": {},
   "outputs": [],
   "source": [
    "# 모듈(라이브러리) 사용하기\n",
    "# numpy를 np로 부르겠다\n",
    "import numpy as np"
   ]
  },
  {
   "cell_type": "markdown",
   "id": "7951934e",
   "metadata": {},
   "source": [
    "### numpy.ndarray 클래스\n",
    "- 동일한 자료형을 가지는 값들이 배열 형태로 존재\n",
    "- N차원 형태로 구성 가능\n",
    "- 각 값들은 양의 정수로 index가 부여됨\n",
    "- ndarray를 줄여서 array로 표현한다"
   ]
  },
  {
   "cell_type": "code",
   "execution_count": 3,
   "id": "11bd1415",
   "metadata": {},
   "outputs": [
    {
     "data": {
      "text/plain": [
       "array([1, 2, 3, 4, 5])"
      ]
     },
     "execution_count": 3,
     "metadata": {},
     "output_type": "execute_result"
    }
   ],
   "source": [
    "list1 = [1,2,3,4,5]\n",
    "arr = np.array(list1)\n",
    "arr"
   ]
  },
  {
   "cell_type": "code",
   "execution_count": 4,
   "id": "6c0294e9",
   "metadata": {},
   "outputs": [
    {
     "data": {
      "text/plain": [
       "array([1, 2, 3, 4, 5])"
      ]
     },
     "execution_count": 4,
     "metadata": {},
     "output_type": "execute_result"
    }
   ],
   "source": [
    "arr1 = np.array([1,2,3,4,5])\n",
    "arr1"
   ]
  },
  {
   "cell_type": "code",
   "execution_count": 5,
   "id": "f8a8012a",
   "metadata": {},
   "outputs": [],
   "source": [
    "# 리스트\n",
    "# [1,2,3] , [4,5,6] 각 요소의 값을 더한다"
   ]
  },
  {
   "cell_type": "code",
   "execution_count": 12,
   "id": "ee256c5b",
   "metadata": {},
   "outputs": [
    {
     "name": "stdout",
     "output_type": "stream",
     "text": [
      "[5, 7, 9]\n"
     ]
    }
   ],
   "source": [
    "list1 = [1,2,3]\n",
    "list2 = [4,5,6]\n",
    "list3 = []\n",
    "for i in range (3) :\n",
    "    list3.append(list1[i] + list2[i])\n",
    "print(list3)"
   ]
  },
  {
   "cell_type": "code",
   "execution_count": 34,
   "id": "515e9c24",
   "metadata": {},
   "outputs": [
    {
     "name": "stdout",
     "output_type": "stream",
     "text": [
      "[5, 7, 9]\n"
     ]
    }
   ],
   "source": [
    "list1 = [1,2,3]\n",
    "list2 = [4,5,6]\n",
    "list3 = [0,0,0]\n",
    "for i in range(3) :\n",
    "    list3[i] = list1[i] + list2[i]\n",
    "print(list3)"
   ]
  },
  {
   "cell_type": "code",
   "execution_count": 15,
   "id": "2ba2e97c",
   "metadata": {},
   "outputs": [
    {
     "data": {
      "text/plain": [
       "array([ 2,  4,  6,  8, 10])"
      ]
     },
     "execution_count": 15,
     "metadata": {},
     "output_type": "execute_result"
    }
   ],
   "source": [
    "# 연산을 진행하면 각 요소끼리 연산 진행\n",
    "arr = arr1 = np.array([ 1,2,3,4,5 ])\n",
    "arr + arr1"
   ]
  },
  {
   "cell_type": "code",
   "execution_count": 26,
   "id": "0a774430",
   "metadata": {},
   "outputs": [
    {
     "data": {
      "text/plain": [
       "array([[1, 2, 3],\n",
       "       [4, 5, 6]])"
      ]
     },
     "execution_count": 26,
     "metadata": {},
     "output_type": "execute_result"
    }
   ],
   "source": [
    "# 2차원 array 생성하기\n",
    "arr2 = np.array([[1,2,3,], [4,5,6]])\n",
    "arr2"
   ]
  },
  {
   "cell_type": "code",
   "execution_count": 27,
   "id": "8717203a",
   "metadata": {},
   "outputs": [
    {
     "name": "stdout",
     "output_type": "stream",
     "text": [
      "(2, 3)\n",
      "(2,)\n"
     ]
    },
    {
     "name": "stderr",
     "output_type": "stream",
     "text": [
      "C:\\Users\\smhrd\\AppData\\Local\\Temp/ipykernel_10164/408452655.py:6: VisibleDeprecationWarning: Creating an ndarray from ragged nested sequences (which is a list-or-tuple of lists-or-tuples-or ndarrays with different lengths or shapes) is deprecated. If you meant to do this, you must specify 'dtype=object' when creating the ndarray.\n",
      "  arr3 = np.array([[1,2,3,], [4,5,6,7]])\n"
     ]
    }
   ],
   "source": [
    "# array의 크기 확인하기\n",
    "# shape\n",
    "print(arr2.shape)\n",
    "# ( i , j ) : 원소가 1차원에 j개 2차원에 i개가 있다\n",
    "# 1차원의 개수가 다르게 되면 j 가 나오지않음\n",
    "arr3 = np.array([[1,2,3,], [4,5,6,7]])\n",
    "print(arr3.shape) # 경고창이 뜸"
   ]
  },
  {
   "cell_type": "code",
   "execution_count": 19,
   "id": "9238c9e2",
   "metadata": {},
   "outputs": [
    {
     "data": {
      "text/plain": [
       "6"
      ]
     },
     "execution_count": 19,
     "metadata": {},
     "output_type": "execute_result"
    }
   ],
   "source": [
    "# array의 전체 요소 개수 확인하기\n",
    "# size\n",
    "arr2.size"
   ]
  },
  {
   "cell_type": "code",
   "execution_count": 31,
   "id": "5b91588c",
   "metadata": {},
   "outputs": [
    {
     "data": {
      "text/plain": [
       "dtype('int32')"
      ]
     },
     "execution_count": 31,
     "metadata": {},
     "output_type": "execute_result"
    }
   ],
   "source": [
    "# array의 타입 확인하기\n",
    "# dtype\n",
    "arr2.dtype"
   ]
  },
  {
   "cell_type": "code",
   "execution_count": 35,
   "id": "84b60bb0",
   "metadata": {},
   "outputs": [
    {
     "data": {
      "text/plain": [
       "2"
      ]
     },
     "execution_count": 35,
     "metadata": {},
     "output_type": "execute_result"
    }
   ],
   "source": [
    "# array의 차원 확인하기\n",
    "# ndim\n",
    "arr2.ndim"
   ]
  },
  {
   "cell_type": "code",
   "execution_count": 48,
   "id": "2b314f4b",
   "metadata": {},
   "outputs": [
    {
     "data": {
      "text/plain": [
       "array([[[1, 2],\n",
       "        [3, 4]],\n",
       "\n",
       "       [[5, 6],\n",
       "        [7, 8]]])"
      ]
     },
     "execution_count": 48,
     "metadata": {},
     "output_type": "execute_result"
    }
   ],
   "source": [
    "# 3차원의 array 만들고 배열의 크기, 전체 요소개수, 차원 확인\n",
    "arr4 = np.array([[[1,2],[3,4]],[[5,6],[7,8]]])\n",
    "arr4"
   ]
  },
  {
   "cell_type": "code",
   "execution_count": 49,
   "id": "9caec602",
   "metadata": {},
   "outputs": [
    {
     "name": "stdout",
     "output_type": "stream",
     "text": [
      "크기 : (2, 2, 2)\n",
      "전체 요소 개수 : 8\n",
      "차원 : 3\n"
     ]
    }
   ],
   "source": [
    "print('크기 : {}' .format(arr4.shape))\n",
    "print(f'전체 요소 개수 : {arr4.size}')\n",
    "print('차원 : %d'%arr4.ndim)"
   ]
  },
  {
   "cell_type": "code",
   "execution_count": 50,
   "id": "f32e0001",
   "metadata": {},
   "outputs": [
    {
     "ename": "TypeError",
     "evalue": "'tuple' object does not support item assignment",
     "output_type": "error",
     "traceback": [
      "\u001b[1;31m---------------------------------------------------------------------------\u001b[0m",
      "\u001b[1;31mTypeError\u001b[0m                                 Traceback (most recent call last)",
      "\u001b[1;32m~\\AppData\\Local\\Temp/ipykernel_10164/3051027707.py\u001b[0m in \u001b[0;36m<module>\u001b[1;34m\u001b[0m\n\u001b[1;32m----> 1\u001b[1;33m \u001b[0marr4\u001b[0m\u001b[1;33m.\u001b[0m\u001b[0mshape\u001b[0m\u001b[1;33m[\u001b[0m\u001b[1;36m0\u001b[0m\u001b[1;33m]\u001b[0m\u001b[1;33m=\u001b[0m\u001b[1;36m3\u001b[0m\u001b[1;33m\u001b[0m\u001b[1;33m\u001b[0m\u001b[0m\n\u001b[0m\u001b[0;32m      2\u001b[0m \u001b[0marr4\u001b[0m\u001b[1;33m.\u001b[0m\u001b[0mshape\u001b[0m\u001b[1;33m\u001b[0m\u001b[1;33m\u001b[0m\u001b[0m\n",
      "\u001b[1;31mTypeError\u001b[0m: 'tuple' object does not support item assignment"
     ]
    }
   ],
   "source": [
    "arr4.shape[0]=3\n",
    "arr4.shape"
   ]
  },
  {
   "cell_type": "code",
   "execution_count": 51,
   "id": "a1bac482",
   "metadata": {},
   "outputs": [
    {
     "data": {
      "text/plain": [
       "array([[0., 0., 0., 0.],\n",
       "       [0., 0., 0., 0.],\n",
       "       [0., 0., 0., 0.]])"
      ]
     },
     "execution_count": 51,
     "metadata": {},
     "output_type": "execute_result"
    }
   ],
   "source": [
    "# 배열 생성하기\n",
    "# 0값으로 생성하기\n",
    "# zeros(배열의 크기)\n",
    "np.zeros((3,4))"
   ]
  },
  {
   "cell_type": "code",
   "execution_count": 57,
   "id": "15f67fdf",
   "metadata": {},
   "outputs": [
    {
     "data": {
      "text/plain": [
       "array([[1., 1., 1., 1.],\n",
       "       [1., 1., 1., 1.],\n",
       "       [1., 1., 1., 1.]])"
      ]
     },
     "execution_count": 57,
     "metadata": {},
     "output_type": "execute_result"
    }
   ],
   "source": [
    "# 1값으로 생성하기\n",
    "# ones()\n",
    "np.ones((3,4))"
   ]
  },
  {
   "cell_type": "code",
   "execution_count": 56,
   "id": "821b1b3c",
   "metadata": {},
   "outputs": [
    {
     "data": {
      "text/plain": [
       "array([[5, 5, 5, 5],\n",
       "       [5, 5, 5, 5],\n",
       "       [5, 5, 5, 5]])"
      ]
     },
     "execution_count": 56,
     "metadata": {},
     "output_type": "execute_result"
    }
   ],
   "source": [
    "# 지정해서 생성하기\n",
    "# full(배열의 크기, 채워넣을 값)\n",
    "np.full((3,4),5)"
   ]
  },
  {
   "cell_type": "code",
   "execution_count": 60,
   "id": "6ede24a0",
   "metadata": {},
   "outputs": [
    {
     "data": {
      "text/plain": [
       "array([ 0,  1,  2,  3,  4,  5,  6,  7,  8,  9, 10, 11, 12, 13, 14, 15, 16,\n",
       "       17, 18, 19, 20, 21, 22, 23, 24, 25, 26, 27, 28, 29, 30, 31, 32, 33,\n",
       "       34, 35, 36, 37, 38, 39, 40, 41, 42, 43, 44, 45, 46, 47, 48, 49])"
      ]
     },
     "execution_count": 60,
     "metadata": {},
     "output_type": "execute_result"
    }
   ],
   "source": [
    "# 연속되는 숫자로 배열 생성하기\n",
    "# arange(시작하는 수, 끝나는수+1, 간격)\n",
    "# 시작하는 수 기본값 : 0\n",
    "# 간격 수 기본값 : 1\n",
    "np.arange(0,50,1)"
   ]
  },
  {
   "cell_type": "code",
   "execution_count": 63,
   "id": "17df81f4",
   "metadata": {},
   "outputs": [
    {
     "data": {
      "text/plain": [
       "array([ 1, 11, 21, 31, 41])"
      ]
     },
     "execution_count": 63,
     "metadata": {},
     "output_type": "execute_result"
    }
   ],
   "source": [
    "np.arange(1,50,10)"
   ]
  }
 ],
 "metadata": {
  "kernelspec": {
   "display_name": "Python 3 (ipykernel)",
   "language": "python",
   "name": "python3"
  },
  "language_info": {
   "codemirror_mode": {
    "name": "ipython",
    "version": 3
   },
   "file_extension": ".py",
   "mimetype": "text/x-python",
   "name": "python",
   "nbconvert_exporter": "python",
   "pygments_lexer": "ipython3",
   "version": "3.9.7"
  }
 },
 "nbformat": 4,
 "nbformat_minor": 5
}
