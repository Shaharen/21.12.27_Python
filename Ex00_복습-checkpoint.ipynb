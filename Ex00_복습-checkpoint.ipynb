{
 "cells": [
  {
   "cell_type": "code",
   "execution_count": 1,
   "id": "75c9ce0b",
   "metadata": {},
   "outputs": [],
   "source": [
    "# 리스트 생성\n",
    "list1 = [1,2,3,4,5]"
   ]
  },
  {
   "cell_type": "code",
   "execution_count": 2,
   "id": "ea837fce",
   "metadata": {},
   "outputs": [
    {
     "data": {
      "text/plain": [
       "2010395353280"
      ]
     },
     "execution_count": 2,
     "metadata": {},
     "output_type": "execute_result"
    }
   ],
   "source": [
    "# 리스트의 주소값 확인\n",
    "id(list1)"
   ]
  },
  {
   "cell_type": "code",
   "execution_count": 3,
   "id": "6b967cce",
   "metadata": {},
   "outputs": [],
   "source": [
    "# 리스트에 값 추가\n",
    "list1.append(6)"
   ]
  },
  {
   "cell_type": "code",
   "execution_count": 4,
   "id": "7155a39c",
   "metadata": {},
   "outputs": [
    {
     "data": {
      "text/plain": [
       "2010395353280"
      ]
     },
     "execution_count": 4,
     "metadata": {},
     "output_type": "execute_result"
    }
   ],
   "source": [
    "# 리스트의 주소값 확인\n",
    "id(list1)"
   ]
  },
  {
   "cell_type": "code",
   "execution_count": 5,
   "id": "ec7fcd35",
   "metadata": {},
   "outputs": [
    {
     "data": {
      "text/plain": [
       "2010395124864"
      ]
     },
     "execution_count": 5,
     "metadata": {},
     "output_type": "execute_result"
    }
   ],
   "source": [
    "# 리스트에 새로운 값 할당\n",
    "list1 = [1,2,3,4]\n",
    "id(list1)"
   ]
  },
  {
   "cell_type": "code",
   "execution_count": 6,
   "id": "f920bc01",
   "metadata": {},
   "outputs": [
    {
     "data": {
      "text/plain": [
       "2010395124864"
      ]
     },
     "execution_count": 6,
     "metadata": {},
     "output_type": "execute_result"
    }
   ],
   "source": [
    "list2 = list1\n",
    "id(list2)"
   ]
  },
  {
   "cell_type": "code",
   "execution_count": 7,
   "id": "074cfa66",
   "metadata": {},
   "outputs": [
    {
     "name": "stdout",
     "output_type": "stream",
     "text": [
      "list1 :  [1, 2, 3, 4]\n",
      "list2 :  [1, 2, 3, 4]\n"
     ]
    }
   ],
   "source": [
    "print('list1 : ',list1)\n",
    "print('list2 : ',list2)"
   ]
  },
  {
   "cell_type": "code",
   "execution_count": 8,
   "id": "fd5e04d1",
   "metadata": {},
   "outputs": [],
   "source": [
    "list2.append(5)"
   ]
  },
  {
   "cell_type": "code",
   "execution_count": 9,
   "id": "9bb17ee9",
   "metadata": {},
   "outputs": [
    {
     "name": "stdout",
     "output_type": "stream",
     "text": [
      "list1 :  [1, 2, 3, 4, 5]\n",
      "list2 :  [1, 2, 3, 4, 5]\n"
     ]
    }
   ],
   "source": [
    "# 둘다 변경됨\n",
    "print('list1 : ',list1)\n",
    "print('list2 : ',list2)"
   ]
  },
  {
   "cell_type": "code",
   "execution_count": 12,
   "id": "965c826b",
   "metadata": {},
   "outputs": [
    {
     "data": {
      "text/plain": [
       "2010395347584"
      ]
     },
     "execution_count": 12,
     "metadata": {},
     "output_type": "execute_result"
    }
   ],
   "source": [
    "# 다른 주소로 값만 가져오기\n",
    "# .copy() : 값만 가져오는 기능\n",
    "list3 = list1.copy()\n",
    "id(list3) # 리스트 1,2 와 다른 주소값을 갖게 됨"
   ]
  },
  {
   "cell_type": "code",
   "execution_count": 10,
   "id": "00d4db14",
   "metadata": {},
   "outputs": [
    {
     "data": {
      "text/plain": [
       "str"
      ]
     },
     "execution_count": 10,
     "metadata": {},
     "output_type": "execute_result"
    }
   ],
   "source": [
    "str1 = '문자열'\n",
    "type(str1)"
   ]
  },
  {
   "cell_type": "code",
   "execution_count": 11,
   "id": "84f6cbc9",
   "metadata": {},
   "outputs": [
    {
     "data": {
      "text/plain": [
       "int"
      ]
     },
     "execution_count": 11,
     "metadata": {},
     "output_type": "execute_result"
    }
   ],
   "source": [
    "int1 = 60\n",
    "type(int1)"
   ]
  },
  {
   "cell_type": "markdown",
   "id": "30b06b3f",
   "metadata": {},
   "source": [
    "### 리스트"
   ]
  },
  {
   "cell_type": "code",
   "execution_count": null,
   "id": "dc4bcad5",
   "metadata": {},
   "outputs": [],
   "source": [
    "# remove, insert, pop, append, count, len, reverse, sort, 인덱싱, 슬라이싱, index ...\n",
    "# 자주 쓰는 정도\n",
    "# 인덱싱, 슬라이싱\n",
    "# append\n",
    "# remove"
   ]
  },
  {
   "cell_type": "code",
   "execution_count": 14,
   "id": "c21d4058",
   "metadata": {},
   "outputs": [
    {
     "name": "stdout",
     "output_type": "stream",
     "text": [
      "[1, 2, 3, 4, 5, 6, 7, 8, 9, 10, 11, 12, 13, 14, 15, 16, 17, 18, 19, 20, 21, 22, 23, 24, 25, 26, 27, 28, 29, 30, 31, 32, 33, 34, 35, 36, 37, 38, 39, 40, 41, 42, 43, 44, 45, 46, 47, 48, 49, 50]\n"
     ]
    }
   ],
   "source": [
    "# 1 ~ 50까지가 담긴 리스트 생성\n",
    "list1=[]\n",
    "\n",
    "for i in range(1,51,1) :\n",
    "    list1.append(i)\n",
    "print(list1)"
   ]
  },
  {
   "cell_type": "code",
   "execution_count": 20,
   "id": "38bd7d8f",
   "metadata": {},
   "outputs": [
    {
     "name": "stdout",
     "output_type": "stream",
     "text": [
      "[1, 2, 3, 4, 5, 6, 7, 8, 9, 10, 11, 12, 13, 14, 15, 16, 17, 18, 19, 20, 21, 22, 23, 24, 25, 26, 27, 28, 29, 30, 31, 32, 33, 34, 35, 36, 37, 38, 39, 40, 41, 42, 43, 44, 45, 46, 47, 48, 49, 50]\n"
     ]
    }
   ],
   "source": [
    "list2=[]\n",
    "\n",
    "for i in range(100) :\n",
    "    if i < 51 and i > 0  :\n",
    "        list2.append(i)\n",
    "print(list2)"
   ]
  },
  {
   "cell_type": "code",
   "execution_count": 25,
   "id": "8051855c",
   "metadata": {},
   "outputs": [
    {
     "name": "stdout",
     "output_type": "stream",
     "text": [
      "[1, 2, 3, 4, 5, 6, 7, 8, 9, 10, 11, 12, 13, 14, 15, 16, 17, 18, 19, 20, 21, 22, 23, 24, 25, 26, 27, 28, 29, 30, 31, 32, 33, 34, 35, 36, 37, 38, 39, 40, 41, 42, 43, 44, 45, 46, 47, 48, 49, 50]\n"
     ]
    }
   ],
   "source": [
    "list3 = []\n",
    "\n",
    "for i in range(50,0,-1) :\n",
    "    list3.append(i)\n",
    "    if i <0 :\n",
    "        break\n",
    "list3.reverse()\n",
    "print(list3)"
   ]
  },
  {
   "cell_type": "code",
   "execution_count": 27,
   "id": "49b8aa05",
   "metadata": {},
   "outputs": [
    {
     "name": "stdout",
     "output_type": "stream",
     "text": [
      "[1, 2, 3, 4, 5, 6, 7, 8, 9, 10, 11, 12, 13, 14, 15, 16, 17, 18, 19, 20, 21, 22, 23, 24, 25, 26, 27, 28, 29, 30, 31, 32, 33, 34, 35, 36, 37, 38, 39, 40, 41, 42, 43, 44, 45, 46, 47, 48, 49, 50]\n"
     ]
    }
   ],
   "source": [
    "list4 = []\n",
    "num=1\n",
    "while True :\n",
    "    list4.append(num)\n",
    "    num+=1\n",
    "    if len(list4) > 49 :\n",
    "        break\n",
    "print(list4)"
   ]
  },
  {
   "cell_type": "code",
   "execution_count": 32,
   "id": "26f9caf3",
   "metadata": {},
   "outputs": [
    {
     "name": "stdout",
     "output_type": "stream",
     "text": [
      "10\n",
      "[15, 16, 17, 18, 19, 20, 21, 22, 23, 24, 25]\n"
     ]
    }
   ],
   "source": [
    "# 인덱싱 슬라이싱\n",
    "# 대괄호 []\n",
    "# 10 출력하기\n",
    "print(list1[9])\n",
    "# 15 ~ 25 출력하기\n",
    "print(list1[14:25])"
   ]
  },
  {
   "cell_type": "code",
   "execution_count": 34,
   "id": "bd3410dd",
   "metadata": {},
   "outputs": [],
   "source": [
    "# print : 원하는 위치에서 출력 가능 : 실행\n",
    "# 변수명 출력 : 마지막 위치에서만 출력 가능 : 출력"
   ]
  },
  {
   "cell_type": "code",
   "execution_count": 35,
   "id": "424e4951",
   "metadata": {},
   "outputs": [
    {
     "name": "stdout",
     "output_type": "stream",
     "text": [
      "asdf\n",
      "asdf\n"
     ]
    },
    {
     "data": {
      "text/plain": [
       "'asdf\\nasdf'"
      ]
     },
     "execution_count": 35,
     "metadata": {},
     "output_type": "execute_result"
    }
   ],
   "source": [
    "#  \\n : 개행\n",
    "str1 = \"asdf\\nasdf\"\n",
    "str1        # 마지막 위치가 아니므로 출력이 안됨\n",
    "print(str1) # print 이므로 내부의 \\n이 실행됨\n",
    "str1        # 그냥 모습 자체를 출력"
   ]
  },
  {
   "cell_type": "markdown",
   "id": "0335dac3",
   "metadata": {},
   "source": [
    "### 딕셔너리\n",
    "- key, value 로 이루어짐"
   ]
  },
  {
   "cell_type": "code",
   "execution_count": 40,
   "id": "e38a95c1",
   "metadata": {},
   "outputs": [
    {
     "name": "stdout",
     "output_type": "stream",
     "text": [
      "{'이름': ['권우진', '김태경', '장민서', '최종인', '최찬호'], '나이': [27, 23, 32, 29, 30]}\n"
     ]
    }
   ],
   "source": [
    "# dic_team 변수명을 사용해서 딕셔너리 만들기\n",
    "# 이름 나이 key 값 사용\n",
    "# 팀원들의 정보\n",
    "dic_team = {\n",
    "    \"이름\" : [\"권우진\",\"김태경\",\"장민서\",\"최종인\",\"최찬호\"],\n",
    "    \"나이\" : [27,23,32,29,30]\n",
    "}\n",
    "\n",
    "print(dic_team)"
   ]
  },
  {
   "cell_type": "code",
   "execution_count": 41,
   "id": "704b4100",
   "metadata": {},
   "outputs": [],
   "source": [
    "import pandas as pd\n",
    "test_pd = pd.DataFrame(dic_team)"
   ]
  },
  {
   "cell_type": "code",
   "execution_count": 43,
   "id": "ea3799d0",
   "metadata": {},
   "outputs": [],
   "source": [
    "# 엑셀 파일 변환\n",
    "test_pd.to_csv(\"asdf.csv\" , encoding = 'cp949')"
   ]
  }
 ],
 "metadata": {
  "kernelspec": {
   "display_name": "Python 3 (ipykernel)",
   "language": "python",
   "name": "python3"
  },
  "language_info": {
   "codemirror_mode": {
    "name": "ipython",
    "version": 3
   },
   "file_extension": ".py",
   "mimetype": "text/x-python",
   "name": "python",
   "nbconvert_exporter": "python",
   "pygments_lexer": "ipython3",
   "version": "3.9.7"
  }
 },
 "nbformat": 4,
 "nbformat_minor": 5
}
